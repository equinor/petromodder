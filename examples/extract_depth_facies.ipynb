{
 "cells": [
  {
   "cell_type": "code",
   "execution_count": 24,
   "metadata": {},
   "outputs": [],
   "source": [
    "import petromodder as pm\n",
    "import xtgeo"
   ]
  },
  {
   "cell_type": "code",
   "execution_count": 3,
   "metadata": {},
   "outputs": [
    {
     "name": "stdout",
     "output_type": "stream",
     "text": [
      "Valid PetroMod model\n"
     ]
    }
   ],
   "source": [
    "pm_mod = pm.PetroMod(\"//mnt//d//code//petromodder//PM_model//pm3d//LayerCake\")"
   ]
  },
  {
   "cell_type": "markdown",
   "metadata": {},
   "source": [
    "PetroMod has 2 folder for storing lines. They are the same"
   ]
  },
  {
   "cell_type": "code",
   "execution_count": 8,
   "metadata": {},
   "outputs": [
    {
     "data": {
      "text/plain": [
       "{'Line_01': <shapely.geometry.linestring.LineString at 0x7f3774d8feb0>}"
      ]
     },
     "execution_count": 8,
     "metadata": {},
     "output_type": "execute_result"
    }
   ],
   "source": [
    "#Cross-section line\n",
    "pm_mod.crossline[\"lines\"]"
   ]
  },
  {
   "cell_type": "code",
   "execution_count": 10,
   "metadata": {},
   "outputs": [
    {
     "data": {
      "text/plain": [
       "{'Line_01': <shapely.geometry.linestring.LineString at 0x7f3774d54340>}"
      ]
     },
     "execution_count": 10,
     "metadata": {},
     "output_type": "execute_result"
    }
   ],
   "source": [
    "#Simple Line\n",
    "pm_mod.polygons[\"lines\"]"
   ]
  },
  {
   "cell_type": "code",
   "execution_count": 41,
   "metadata": {},
   "outputs": [],
   "source": [
    "#Get coordinates\n",
    "coord = list(pm_mod.polygons[\"lines\"][\"Line_01\"].coords)"
   ]
  },
  {
   "cell_type": "code",
   "execution_count": 48,
   "metadata": {},
   "outputs": [
    {
     "data": {
      "text/html": [
       "<div>\n",
       "<style scoped>\n",
       "    .dataframe tbody tr th:only-of-type {\n",
       "        vertical-align: middle;\n",
       "    }\n",
       "\n",
       "    .dataframe tbody tr th {\n",
       "        vertical-align: top;\n",
       "    }\n",
       "\n",
       "    .dataframe thead th {\n",
       "        text-align: right;\n",
       "    }\n",
       "</style>\n",
       "<table border=\"1\" class=\"dataframe\">\n",
       "  <thead>\n",
       "    <tr style=\"text-align: right;\">\n",
       "      <th></th>\n",
       "      <th>Key</th>\n",
       "      <th>HorizonAge</th>\n",
       "      <th>HorizonID</th>\n",
       "      <th>HorizonName</th>\n",
       "      <th>HorizonColor</th>\n",
       "      <th>LayerID</th>\n",
       "      <th>LayerName</th>\n",
       "      <th>LayerColor</th>\n",
       "      <th>LayerType</th>\n",
       "      <th>NoSubLayer</th>\n",
       "      <th>MaxTimeStep</th>\n",
       "      <th>Unnamed: 11</th>\n",
       "      <th>HorizonGeomID</th>\n",
       "      <th>FaciesMapID</th>\n",
       "    </tr>\n",
       "  </thead>\n",
       "  <tbody>\n",
       "    <tr>\n",
       "      <th>0</th>\n",
       "      <td>Data</td>\n",
       "      <td>0.0</td>\n",
       "      <td>1</td>\n",
       "      <td>Horizon_6</td>\n",
       "      <td>-16777088</td>\n",
       "      <td>1</td>\n",
       "      <td>Layer_5</td>\n",
       "      <td>-16777088</td>\n",
       "      <td>0</td>\n",
       "      <td>1</td>\n",
       "      <td>10.0</td>\n",
       "      <td>NaN</td>\n",
       "      <td>2</td>\n",
       "      <td>1</td>\n",
       "    </tr>\n",
       "    <tr>\n",
       "      <th>1</th>\n",
       "      <td>Data</td>\n",
       "      <td>10.0</td>\n",
       "      <td>2</td>\n",
       "      <td>Horizon_5</td>\n",
       "      <td>-16777021</td>\n",
       "      <td>2</td>\n",
       "      <td>Layer_4</td>\n",
       "      <td>-16777021</td>\n",
       "      <td>0</td>\n",
       "      <td>1</td>\n",
       "      <td>10.0</td>\n",
       "      <td>NaN</td>\n",
       "      <td>3</td>\n",
       "      <td>2</td>\n",
       "    </tr>\n",
       "    <tr>\n",
       "      <th>2</th>\n",
       "      <td>Data</td>\n",
       "      <td>20.0</td>\n",
       "      <td>3</td>\n",
       "      <td>Horizon_4</td>\n",
       "      <td>-16776961</td>\n",
       "      <td>3</td>\n",
       "      <td>Layer_3</td>\n",
       "      <td>-16776961</td>\n",
       "      <td>0</td>\n",
       "      <td>1</td>\n",
       "      <td>10.0</td>\n",
       "      <td>NaN</td>\n",
       "      <td>4</td>\n",
       "      <td>3</td>\n",
       "    </tr>\n",
       "    <tr>\n",
       "      <th>3</th>\n",
       "      <td>Data</td>\n",
       "      <td>30.0</td>\n",
       "      <td>4</td>\n",
       "      <td>Horizon_3</td>\n",
       "      <td>-16749057</td>\n",
       "      <td>4</td>\n",
       "      <td>Layer_2</td>\n",
       "      <td>-16749057</td>\n",
       "      <td>0</td>\n",
       "      <td>1</td>\n",
       "      <td>10.0</td>\n",
       "      <td>NaN</td>\n",
       "      <td>5</td>\n",
       "      <td>4</td>\n",
       "    </tr>\n",
       "    <tr>\n",
       "      <th>4</th>\n",
       "      <td>Data</td>\n",
       "      <td>40.0</td>\n",
       "      <td>5</td>\n",
       "      <td>Horizon_2</td>\n",
       "      <td>-16739841</td>\n",
       "      <td>5</td>\n",
       "      <td>Layer_1</td>\n",
       "      <td>-16739841</td>\n",
       "      <td>0</td>\n",
       "      <td>1</td>\n",
       "      <td>10.0</td>\n",
       "      <td>NaN</td>\n",
       "      <td>6</td>\n",
       "      <td>5</td>\n",
       "    </tr>\n",
       "    <tr>\n",
       "      <th>5</th>\n",
       "      <td>Data</td>\n",
       "      <td>50.0</td>\n",
       "      <td>6</td>\n",
       "      <td>Horizon_1</td>\n",
       "      <td>-16730369</td>\n",
       "      <td>-1</td>\n",
       "      <td></td>\n",
       "      <td>-1</td>\n",
       "      <td>-1</td>\n",
       "      <td>-1</td>\n",
       "      <td>99999.0</td>\n",
       "      <td>NaN</td>\n",
       "      <td>7</td>\n",
       "      <td>-1</td>\n",
       "    </tr>\n",
       "  </tbody>\n",
       "</table>\n",
       "</div>"
      ],
      "text/plain": [
       "    Key  HorizonAge  HorizonID HorizonName  HorizonColor  LayerID LayerName  \\\n",
       "0  Data         0.0          1   Horizon_6     -16777088        1   Layer_5   \n",
       "1  Data        10.0          2   Horizon_5     -16777021        2   Layer_4   \n",
       "2  Data        20.0          3   Horizon_4     -16776961        3   Layer_3   \n",
       "3  Data        30.0          4   Horizon_3     -16749057        4   Layer_2   \n",
       "4  Data        40.0          5   Horizon_2     -16739841        5   Layer_1   \n",
       "5  Data        50.0          6   Horizon_1     -16730369       -1             \n",
       "\n",
       "   LayerColor  LayerType  NoSubLayer  MaxTimeStep  Unnamed: 11  HorizonGeomID  \\\n",
       "0   -16777088          0           1         10.0          NaN              2   \n",
       "1   -16777021          0           1         10.0          NaN              3   \n",
       "2   -16776961          0           1         10.0          NaN              4   \n",
       "3   -16749057          0           1         10.0          NaN              5   \n",
       "4   -16739841          0           1         10.0          NaN              6   \n",
       "5          -1         -1          -1      99999.0          NaN              7   \n",
       "\n",
       "   FaciesMapID  \n",
       "0            1  \n",
       "1            2  \n",
       "2            3  \n",
       "3            4  \n",
       "4            5  \n",
       "5           -1  "
      ]
     },
     "execution_count": 48,
     "metadata": {},
     "output_type": "execute_result"
    }
   ],
   "source": [
    "pm_mod.lookup_table"
   ]
  },
  {
   "cell_type": "code",
   "execution_count": 27,
   "metadata": {},
   "outputs": [
    {
     "data": {
      "text/html": [
       "<div>\n",
       "<style scoped>\n",
       "    .dataframe tbody tr th:only-of-type {\n",
       "        vertical-align: middle;\n",
       "    }\n",
       "\n",
       "    .dataframe tbody tr th {\n",
       "        vertical-align: top;\n",
       "    }\n",
       "\n",
       "    .dataframe thead th {\n",
       "        text-align: right;\n",
       "    }\n",
       "</style>\n",
       "<table border=\"1\" class=\"dataframe\">\n",
       "  <thead>\n",
       "    <tr style=\"text-align: right;\">\n",
       "      <th></th>\n",
       "      <th>HorizonAge</th>\n",
       "      <th>HorizonGeomID</th>\n",
       "      <th>FaciesMapID</th>\n",
       "    </tr>\n",
       "  </thead>\n",
       "  <tbody>\n",
       "    <tr>\n",
       "      <th>0</th>\n",
       "      <td>0.0</td>\n",
       "      <td>2</td>\n",
       "      <td>1</td>\n",
       "    </tr>\n",
       "    <tr>\n",
       "      <th>1</th>\n",
       "      <td>10.0</td>\n",
       "      <td>3</td>\n",
       "      <td>2</td>\n",
       "    </tr>\n",
       "    <tr>\n",
       "      <th>2</th>\n",
       "      <td>20.0</td>\n",
       "      <td>4</td>\n",
       "      <td>3</td>\n",
       "    </tr>\n",
       "    <tr>\n",
       "      <th>3</th>\n",
       "      <td>30.0</td>\n",
       "      <td>5</td>\n",
       "      <td>4</td>\n",
       "    </tr>\n",
       "    <tr>\n",
       "      <th>4</th>\n",
       "      <td>40.0</td>\n",
       "      <td>6</td>\n",
       "      <td>5</td>\n",
       "    </tr>\n",
       "    <tr>\n",
       "      <th>5</th>\n",
       "      <td>50.0</td>\n",
       "      <td>7</td>\n",
       "      <td>-1</td>\n",
       "    </tr>\n",
       "  </tbody>\n",
       "</table>\n",
       "</div>"
      ],
      "text/plain": [
       "   HorizonAge  HorizonGeomID  FaciesMapID\n",
       "0         0.0              2            1\n",
       "1        10.0              3            2\n",
       "2        20.0              4            3\n",
       "3        30.0              5            4\n",
       "4        40.0              6            5\n",
       "5        50.0              7           -1"
      ]
     },
     "execution_count": 27,
     "metadata": {},
     "output_type": "execute_result"
    }
   ],
   "source": [
    "#Geometry of the PetroMod model\n",
    "#HorizonAge = Age of the surface grid\n",
    "#HorizonGeomID = file name of the surface grid\n",
    "#FaciesMapID = facies map of the surface\n",
    "#If HorizonGeomID is -1, that means the event is erosional/hiatus. Ignore for now\n",
    "table = pm_mod.lookup_table[[\"HorizonAge\",\"HorizonGeomID\",\"FaciesMapID\"]]\n",
    "table"
   ]
  },
  {
   "cell_type": "code",
   "execution_count": 25,
   "metadata": {
    "scrolled": true
   },
   "outputs": [],
   "source": [
    "#Path to depth map\n",
    "map_path=pm_mod.path / \"in//ts1//bl1//dpth_m//\""
   ]
  },
  {
   "cell_type": "code",
   "execution_count": 44,
   "metadata": {},
   "outputs": [
    {
     "name": "stdout",
     "output_type": "stream",
     "text": [
      "['Content=Map', 'DataUnitDistance=15', 'DataUnitZ=10', 'GridNoX=101', 'GridNoY=101', 'GridStepX=100', 'GridStepY=100', 'MapType=GridMap', 'OriginX=0', 'OriginY=0', 'RotationAngle=0', 'RotationOriginX=0', 'RotationOriginY=0', 'Undefined=99999', 'Version=1.0']\n"
     ]
    }
   ],
   "source": [
    "#Read the first surface grid\n",
    "filename = str(int(table.iloc[0][\"HorizonGeomID\"]))+\".pmd\"\n",
    "fullpath = map_path / filename\n",
    "surface = xtgeo.surface_from_file(fullpath, fformat=\"petromod\")"
   ]
  },
  {
   "cell_type": "code",
   "execution_count": 45,
   "metadata": {},
   "outputs": [
    {
     "data": {
      "text/plain": [
       "0.0"
      ]
     },
     "execution_count": 45,
     "metadata": {},
     "output_type": "execute_result"
    }
   ],
   "source": [
    "#Extract depth value from coordinates\n",
    "l = coord[0]\n",
    "surface.get_value_from_xy(point=l)"
   ]
  },
  {
   "cell_type": "code",
   "execution_count": 50,
   "metadata": {},
   "outputs": [],
   "source": [
    "#Path to facies map\n",
    "facies_path=pm_mod.path / \"in//ts1//bl1//faci_m//\""
   ]
  },
  {
   "cell_type": "code",
   "execution_count": 51,
   "metadata": {},
   "outputs": [
    {
     "name": "stdout",
     "output_type": "stream",
     "text": [
      "['Content=Map', 'DataUnitDistance=15', 'DataUnitZ=300', 'GridNoX=100', 'GridNoY=100', 'GridStepX=100', 'GridStepY=100', 'MapType=CellMap', 'OriginX=0', 'OriginY=0', 'RotationAngle=0', 'RotationOriginX=0', 'RotationOriginY=0', 'Undefined=99999', 'Version=1.0']\n"
     ]
    }
   ],
   "source": [
    "#Read the first facies map\n",
    "filename = str(int(table.iloc[0][\"FaciesMapID\"]))+\".pmd\"\n",
    "fullpath = facies_path / filename\n",
    "facies = xtgeo.surface_from_file(fullpath, fformat=\"petromod\")"
   ]
  },
  {
   "cell_type": "code",
   "execution_count": 53,
   "metadata": {},
   "outputs": [],
   "source": [
    "#Extract facies value from coordinates\n",
    "l = coord[0]\n",
    "facies_code = facies.get_value_from_xy(point=l)"
   ]
  },
  {
   "cell_type": "code",
   "execution_count": 55,
   "metadata": {},
   "outputs": [],
   "source": [
    "#Convert map facies code into facies code in the PetroMod mode\n",
    "facies_conv = pm_mod.facies_table\n",
    "if pm_mod.version == \"2017.1\":\n",
    "    facies_conv = facies_conv[[\"ID\", \"LithValue\"]]\n",
    "    facies_conv = facies_conv.set_index(\"ID\").T.to_dict(\"int\")\n",
    "    facies_conv = facies_conv[\"LithValue\"]\n",
    "elif pm_mod.version == \"2019.1\":\n",
    "    facies_conv = facies_conv[[\"ID\", \"LithoUUID\"]]\n",
    "    facies_conv = facies_conv.set_index(\"ID\").T.to_dict(\"int\")\n",
    "    facies_conv = facies_conv[\"LithoUUID\"]"
   ]
  },
  {
   "cell_type": "code",
   "execution_count": 58,
   "metadata": {},
   "outputs": [],
   "source": [
    "#Get the facies code and thermal properties dictionary\n",
    "#The xml file will only exist if user has created custom lithology\n",
    "lith = pm_mod.lithology\n",
    "facies = {}\n",
    "for k, v in facies_conv.items():\n",
    "    map_k = str(k)\n",
    "    lithval = str(v)\n",
    "    d = {map_k: lith[lithval]}\n",
    "    facies.update(d)"
   ]
  },
  {
   "cell_type": "code",
   "execution_count": 66,
   "metadata": {},
   "outputs": [
    {
     "data": {
      "text/plain": [
       "{'Thermal Conduct. Model Key': '1',\n",
       " 'Thermal Conduct. at 20°C': '1.64',\n",
       " 'Thermal Conduct. at 100°C': '1.69',\n",
       " 'Thermal Conduct. Max. Temperature': '593.15',\n",
       " 'Thermal Conduct. Multi-Point Model': '38aa3330-1ac6-46e9-aa4d-3772d73a5cb5',\n",
       " 'Anisotropy Factor Thermal Conduct.': '1.6',\n",
       " 'Depositional Anisotropy (On/Off)': 'True',\n",
       " 'Depositional Anisotropy': '1.02',\n",
       " 'Thermal Expansion Coefficient': '3.3e-5',\n",
       " 'Uranium': '3.7e-6',\n",
       " 'Thorium': '1.2e-5',\n",
       " 'Potassium': '0.027',\n",
       " 'Heat Capacity Model': '4',\n",
       " 'Heat Capacity at 20°C': '862.4808',\n",
       " 'Heat Capacity at 100°C': '996.4584',\n",
       " 'Heat Capacity Max. Temperature': '593.15',\n",
       " 'Heat Capacity Curve': 'e8b0c67f-8dc6-4aee-b989-04bbad3575d4',\n",
       " 'Density': '2700',\n",
       " 'Initial Porosity': '0.7',\n",
       " 'Minimum Porosity': '0.01',\n",
       " 'Compaction Model Key': '5',\n",
       " 'Compressibility Max': '4.0327e-7',\n",
       " 'Compressibility Min': '4.03e-9',\n",
       " \"Athy's Factor k (stress)\": '9.613e-8',\n",
       " 'Schneider Factor ka': '1.9157e-7',\n",
       " 'Schneider Factor kb': '5.27e-8',\n",
       " 'Schneider Factor phi': '0.35',\n",
       " \"Athy's Factor k (depth)\": '0.83',\n",
       " 'Permeability Multi-Point Model Key': '5f6578c1-dd19-4f93-a0cf-61bf5d421bd4',\n",
       " 'Specific Surface Area': '1e+8',\n",
       " 'Scaling Factor': '0.2',\n",
       " 'Anisotropy Factor Permeability': '1.2',\n",
       " 'Horizontal Upscaling Factor': '50',\n",
       " 'Vertical Upscaling Factor': '1',\n",
       " 'CapillaryPressure (a*por+b) Parameter A': '-1490000',\n",
       " 'CapillaryPressure (a*por+b) Parameter B': '4.251e+7',\n",
       " 'CapillaryPressure (a*perm^b) Parameter A': '370000',\n",
       " 'CapillaryPressure (a*perm^b) Parameter B': '-0.24',\n",
       " 'Capillary Pressure a*10^(b*por) Parameter A': '4.658e+7',\n",
       " 'Capillary Pressure a*10^(b*por) Parameter B': '-0.055',\n",
       " 'Upscaling Factor': '2.56',\n",
       " 'Reference Viscosity': '50',\n",
       " 'Reference Temperature': '288.15',\n",
       " 'Schneider Activation Energy': '17000',\n",
       " 'Quartz Grain Volume Fraction': '1',\n",
       " 'Quartz Grain Size': '0.001',\n",
       " 'Walderhaug Frequency Factor': '9e-12',\n",
       " \"Poisson's Ratio 2\": '0.3',\n",
       " 'Cohesion': '2e+7',\n",
       " 'Critical oil saturation': '0.01'}"
      ]
     },
     "execution_count": 66,
     "metadata": {},
     "output_type": "execute_result"
    }
   ],
   "source": [
    "facies[str(int(facies_code))]"
   ]
  }
 ],
 "metadata": {
  "kernelspec": {
   "display_name": "subsheat",
   "language": "python",
   "name": "subsheat"
  },
  "language_info": {
   "codemirror_mode": {
    "name": "ipython",
    "version": 3
   },
   "file_extension": ".py",
   "mimetype": "text/x-python",
   "name": "python",
   "nbconvert_exporter": "python",
   "pygments_lexer": "ipython3",
   "version": "3.8.1"
  }
 },
 "nbformat": 4,
 "nbformat_minor": 4
}
